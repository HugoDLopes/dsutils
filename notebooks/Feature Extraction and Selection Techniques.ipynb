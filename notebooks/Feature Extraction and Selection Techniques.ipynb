{
 "cells": [
  {
   "cell_type": "markdown",
   "metadata": {},
   "source": [
    "# Feature Extraction and Selection Techniques\n",
    "By: Hugo D. Lopes\n",
    "## Objective of the notebook\n",
    "Understand PCA, check about scaling and min max scaling. Evaluate classification results for RF and Logit. "
   ]
  },
  {
   "cell_type": "code",
   "execution_count": 30,
   "metadata": {
    "collapsed": true
   },
   "outputs": [],
   "source": [
    "import numpy as np\n",
    "import pandas as pd\n",
    "\n",
    "from sklearn.decomposition import PCA\n",
    "from sklearn.model_selection import train_test_split\n",
    "from sklearn.ensemble import RandomForestClassifier\n",
    "from sklearn.linear_model import LogisticRegression\n",
    "from sklearn.metrics import roc_auc_score\n",
    "from sklearn.preprocessing import StandardScaler, MinMaxScaler, RobustScaler\n",
    "\n",
    "import matplotlib.pyplot as plt\n",
    "import seaborn as sns\n",
    "\n",
    "from codefiles.datagen import random_xy, x_plus_noise, data_3d\n",
    "from codefiles.dataplot import plot_principal_components, plot_3d, plot_2d\n",
    "%matplotlib inline\n",
    "# %matplotlib notebook"
   ]
  },
  {
   "cell_type": "markdown",
   "metadata": {},
   "source": [
    "# Load Credit Default dataset from Kaggle"
   ]
  },
  {
   "cell_type": "code",
   "execution_count": 2,
   "metadata": {
    "collapsed": true
   },
   "outputs": [],
   "source": [
    "def load_example_data(n_rows=10000):\n",
    "    \"\"\"\n",
    "    Load example data\n",
    "    \"\"\"\n",
    "    data = pd.read_csv('cs-training.csv', index_col=0)\n",
    "    # Drop all rows with NaN\n",
    "    data.dropna(inplace=True)\n",
    "    # Get target column\n",
    "    y = data['SeriousDlqin2yrs']\n",
    "    # Get features columns\n",
    "    X = data.ix[:, 1:]\n",
    "\n",
    "    # Shuffle data and reduce dataset\n",
    "    #idx = np.random.permutation(y.size)\n",
    "    \n",
    "    #X = X.iloc[idx]\n",
    "    X = X.iloc[:n_rows]\n",
    "    #y = y.iloc[idx]\n",
    "    y = y.iloc[:n_rows]\n",
    "    print('Number of features (columns):', X.shape[1])\n",
    "    print('Number of loans (rows):', X.shape[0])\n",
    "    \n",
    "    X_train, X_test, y_train, y_test = train_test_split(X, y, test_size=0.20, random_state=1)\n",
    "    return X, y, X_train, y_train, X_test, y_test"
   ]
  },
  {
   "cell_type": "code",
   "execution_count": 71,
   "metadata": {
    "collapsed": false
   },
   "outputs": [
    {
     "name": "stdout",
     "output_type": "stream",
     "text": [
      "Number of features (columns): 10\n",
      "Number of loans (rows): 40000\n"
     ]
    },
    {
     "data": {
      "text/html": [
       "<div>\n",
       "<table border=\"1\" class=\"dataframe\">\n",
       "  <thead>\n",
       "    <tr style=\"text-align: right;\">\n",
       "      <th></th>\n",
       "      <th>RevolvingUtilizationOfUnsecuredLines</th>\n",
       "      <th>age</th>\n",
       "      <th>NumberOfTime30-59DaysPastDueNotWorse</th>\n",
       "      <th>DebtRatio</th>\n",
       "      <th>MonthlyIncome</th>\n",
       "      <th>NumberOfOpenCreditLinesAndLoans</th>\n",
       "      <th>NumberOfTimes90DaysLate</th>\n",
       "      <th>NumberRealEstateLoansOrLines</th>\n",
       "      <th>NumberOfTime60-89DaysPastDueNotWorse</th>\n",
       "      <th>NumberOfDependents</th>\n",
       "    </tr>\n",
       "  </thead>\n",
       "  <tbody>\n",
       "    <tr>\n",
       "      <th>27155</th>\n",
       "      <td>0.154235</td>\n",
       "      <td>58</td>\n",
       "      <td>1</td>\n",
       "      <td>0.982948</td>\n",
       "      <td>4104.0</td>\n",
       "      <td>13</td>\n",
       "      <td>0</td>\n",
       "      <td>2</td>\n",
       "      <td>0</td>\n",
       "      <td>0.0</td>\n",
       "    </tr>\n",
       "    <tr>\n",
       "      <th>19493</th>\n",
       "      <td>0.397600</td>\n",
       "      <td>59</td>\n",
       "      <td>0</td>\n",
       "      <td>0.869640</td>\n",
       "      <td>4080.0</td>\n",
       "      <td>11</td>\n",
       "      <td>0</td>\n",
       "      <td>3</td>\n",
       "      <td>0</td>\n",
       "      <td>0.0</td>\n",
       "    </tr>\n",
       "    <tr>\n",
       "      <th>35990</th>\n",
       "      <td>0.163177</td>\n",
       "      <td>56</td>\n",
       "      <td>0</td>\n",
       "      <td>0.011945</td>\n",
       "      <td>6529.0</td>\n",
       "      <td>1</td>\n",
       "      <td>0</td>\n",
       "      <td>0</td>\n",
       "      <td>0</td>\n",
       "      <td>3.0</td>\n",
       "    </tr>\n",
       "    <tr>\n",
       "      <th>241</th>\n",
       "      <td>0.973339</td>\n",
       "      <td>61</td>\n",
       "      <td>1</td>\n",
       "      <td>0.209962</td>\n",
       "      <td>5500.0</td>\n",
       "      <td>11</td>\n",
       "      <td>0</td>\n",
       "      <td>0</td>\n",
       "      <td>1</td>\n",
       "      <td>1.0</td>\n",
       "    </tr>\n",
       "    <tr>\n",
       "      <th>45892</th>\n",
       "      <td>0.082601</td>\n",
       "      <td>35</td>\n",
       "      <td>0</td>\n",
       "      <td>0.114269</td>\n",
       "      <td>5066.0</td>\n",
       "      <td>8</td>\n",
       "      <td>0</td>\n",
       "      <td>0</td>\n",
       "      <td>0</td>\n",
       "      <td>0.0</td>\n",
       "    </tr>\n",
       "    <tr>\n",
       "      <th>47558</th>\n",
       "      <td>0.309823</td>\n",
       "      <td>41</td>\n",
       "      <td>0</td>\n",
       "      <td>0.350112</td>\n",
       "      <td>5800.0</td>\n",
       "      <td>10</td>\n",
       "      <td>0</td>\n",
       "      <td>1</td>\n",
       "      <td>0</td>\n",
       "      <td>1.0</td>\n",
       "    </tr>\n",
       "    <tr>\n",
       "      <th>8916</th>\n",
       "      <td>0.235751</td>\n",
       "      <td>48</td>\n",
       "      <td>0</td>\n",
       "      <td>0.752071</td>\n",
       "      <td>3500.0</td>\n",
       "      <td>11</td>\n",
       "      <td>0</td>\n",
       "      <td>2</td>\n",
       "      <td>0</td>\n",
       "      <td>0.0</td>\n",
       "    </tr>\n",
       "    <tr>\n",
       "      <th>42000</th>\n",
       "      <td>0.567135</td>\n",
       "      <td>44</td>\n",
       "      <td>0</td>\n",
       "      <td>0.197518</td>\n",
       "      <td>2900.0</td>\n",
       "      <td>4</td>\n",
       "      <td>0</td>\n",
       "      <td>0</td>\n",
       "      <td>0</td>\n",
       "      <td>0.0</td>\n",
       "    </tr>\n",
       "  </tbody>\n",
       "</table>\n",
       "</div>"
      ],
      "text/plain": [
       "       RevolvingUtilizationOfUnsecuredLines  age  \\\n",
       "27155                              0.154235   58   \n",
       "19493                              0.397600   59   \n",
       "35990                              0.163177   56   \n",
       "241                                0.973339   61   \n",
       "45892                              0.082601   35   \n",
       "47558                              0.309823   41   \n",
       "8916                               0.235751   48   \n",
       "42000                              0.567135   44   \n",
       "\n",
       "       NumberOfTime30-59DaysPastDueNotWorse  DebtRatio  MonthlyIncome  \\\n",
       "27155                                     1   0.982948         4104.0   \n",
       "19493                                     0   0.869640         4080.0   \n",
       "35990                                     0   0.011945         6529.0   \n",
       "241                                       1   0.209962         5500.0   \n",
       "45892                                     0   0.114269         5066.0   \n",
       "47558                                     0   0.350112         5800.0   \n",
       "8916                                      0   0.752071         3500.0   \n",
       "42000                                     0   0.197518         2900.0   \n",
       "\n",
       "       NumberOfOpenCreditLinesAndLoans  NumberOfTimes90DaysLate  \\\n",
       "27155                               13                        0   \n",
       "19493                               11                        0   \n",
       "35990                                1                        0   \n",
       "241                                 11                        0   \n",
       "45892                                8                        0   \n",
       "47558                               10                        0   \n",
       "8916                                11                        0   \n",
       "42000                                4                        0   \n",
       "\n",
       "       NumberRealEstateLoansOrLines  NumberOfTime60-89DaysPastDueNotWorse  \\\n",
       "27155                             2                                     0   \n",
       "19493                             3                                     0   \n",
       "35990                             0                                     0   \n",
       "241                               0                                     1   \n",
       "45892                             0                                     0   \n",
       "47558                             1                                     0   \n",
       "8916                              2                                     0   \n",
       "42000                             0                                     0   \n",
       "\n",
       "       NumberOfDependents  \n",
       "27155                 0.0  \n",
       "19493                 0.0  \n",
       "35990                 3.0  \n",
       "241                   1.0  \n",
       "45892                 0.0  \n",
       "47558                 1.0  \n",
       "8916                  0.0  \n",
       "42000                 0.0  "
      ]
     },
     "execution_count": 71,
     "metadata": {},
     "output_type": "execute_result"
    }
   ],
   "source": [
    "X, y, X_train, y_train, X_test, y_test = load_example_data(n_rows=40000)\n",
    "X_train.head(8)"
   ]
  },
  {
   "cell_type": "markdown",
   "metadata": {},
   "source": [
    "# Configs"
   ]
  },
  {
   "cell_type": "code",
   "execution_count": 72,
   "metadata": {
    "collapsed": true
   },
   "outputs": [],
   "source": [
    "n_estimators = 300\n",
    "n_components = 9 # for PCA"
   ]
  },
  {
   "cell_type": "markdown",
   "metadata": {},
   "source": [
    "# No feature engineering"
   ]
  },
  {
   "cell_type": "code",
   "execution_count": 73,
   "metadata": {
    "collapsed": false
   },
   "outputs": [
    {
     "name": "stdout",
     "output_type": "stream",
     "text": [
      "RF AU ROC = 0.8281\n",
      "Logit AU ROC = 0.6809\n"
     ]
    }
   ],
   "source": [
    "clf_base = RandomForestClassifier(n_estimators=n_estimators).fit(X_train, y_train)\n",
    "print('RF AU ROC = %1.4f' % roc_auc_score(y_test, clf_base.predict_proba(X_test)[:, 1]))\n",
    "\n",
    "clf_base = LogisticRegression().fit(X_train, y_train)\n",
    "print('Logit AU ROC = %1.4f' % roc_auc_score(y_test, clf_base.predict_proba(X_test)[:, 1]))"
   ]
  },
  {
   "cell_type": "markdown",
   "metadata": {},
   "source": [
    "# PCA Without Scaling"
   ]
  },
  {
   "cell_type": "code",
   "execution_count": 74,
   "metadata": {
    "collapsed": false
   },
   "outputs": [
    {
     "data": {
      "text/plain": [
       "array([  9.97691574e-01,   1.89592555e-03,   4.08737375e-04,\n",
       "         2.82343600e-06,   5.64783457e-07,   3.38781026e-07,\n",
       "         1.75785693e-08,   1.28492405e-08,   4.14142207e-09,\n",
       "         1.55078696e-09])"
      ]
     },
     "execution_count": 74,
     "metadata": {},
     "output_type": "execute_result"
    }
   ],
   "source": [
    "pca_no_scale = PCA(n_components=n_components)\n",
    "pca_no_scale.fit(X_train)\n",
    "pca_no_scale.explained_variance_ratio_"
   ]
  },
  {
   "cell_type": "code",
   "execution_count": 75,
   "metadata": {
    "collapsed": false
   },
   "outputs": [
    {
     "name": "stdout",
     "output_type": "stream",
     "text": [
      "RF AU ROC = 0.8223\n",
      "Logit AU ROC = 0.6874\n"
     ]
    }
   ],
   "source": [
    "clf_pure_pca = RandomForestClassifier(n_estimators=n_estimators).fit(pca_no_scale.transform(X_train), y_train)\n",
    "print('RF AU ROC = %1.4f' % roc_auc_score(y_test, clf_pure_pca.predict_proba(pca_no_scale.transform(X_test))[:, 1]))\n",
    "\n",
    "clf_pure_pca = LogisticRegression().fit(pca_no_scale.transform(X_train), y_train)\n",
    "print('Logit AU ROC = %1.4f' % roc_auc_score(y_test, clf_pure_pca.predict_proba(pca_no_scale.transform(X_test))[:, 1]))"
   ]
  },
  {
   "cell_type": "markdown",
   "metadata": {},
   "source": [
    "# PCA With Standardization"
   ]
  },
  {
   "cell_type": "code",
   "execution_count": 76,
   "metadata": {
    "collapsed": false
   },
   "outputs": [],
   "source": [
    "scaler = StandardScaler().fit(X_train)"
   ]
  },
  {
   "cell_type": "code",
   "execution_count": 77,
   "metadata": {
    "collapsed": false
   },
   "outputs": [
    {
     "data": {
      "text/plain": [
       "array([ 0.29868149,  0.16014121,  0.12267758,  0.10299721,  0.10004885,\n",
       "        0.08495137,  0.07259661,  0.05491852,  0.0021651 ,  0.00082204])"
      ]
     },
     "execution_count": 77,
     "metadata": {},
     "output_type": "execute_result"
    }
   ],
   "source": [
    "pca_scaled = PCA(n_components=n_components)\n",
    "pca_scaled.fit(scaler.transform(X_train))\n",
    "pca_scaled.explained_variance_ratio_"
   ]
  },
  {
   "cell_type": "code",
   "execution_count": 78,
   "metadata": {
    "collapsed": false
   },
   "outputs": [
    {
     "name": "stdout",
     "output_type": "stream",
     "text": [
      "RF AU ROC = 0.7955\n",
      "Logit AU ROC = 0.6874\n"
     ]
    }
   ],
   "source": [
    "clf_stdz = RandomForestClassifier(n_estimators=n_estimators).fit(pca_scaled.transform(scaler.transform(X_train)), y_train)\n",
    "print('RF AU ROC = %1.4f' % roc_auc_score(y_test, \n",
    "                                       clf_stdz.predict_proba(\n",
    "                                           pca_scaled.transform(\n",
    "                                               scaler.transform(X_test)))[:, 1]))\n",
    "\n",
    "clf_stdz = LogisticRegression().fit(pca_scaled.transform(scaler.transform(X_train)), y_train)\n",
    "print('Logit AU ROC = %1.4f' % roc_auc_score(y_test, \n",
    "                                       clf_stdz.predict_proba(\n",
    "                                           pca_scaled.transform(\n",
    "                                               scaler.transform(X_test)))[:, 1]))"
   ]
  },
  {
   "cell_type": "markdown",
   "metadata": {},
   "source": [
    "# PCA With Robust Standardization"
   ]
  },
  {
   "cell_type": "code",
   "execution_count": 85,
   "metadata": {
    "collapsed": true
   },
   "outputs": [],
   "source": [
    "scaler = RobustScaler().fit(X_train)"
   ]
  },
  {
   "cell_type": "code",
   "execution_count": 86,
   "metadata": {
    "collapsed": false
   },
   "outputs": [
    {
     "data": {
      "text/plain": [
       "array([  9.23409059e-01,   7.65555424e-02,   3.13530306e-05,\n",
       "         2.36476943e-06,   6.18812374e-07,   3.69731762e-07,\n",
       "         2.26675476e-07,   2.14177987e-07,   1.65670381e-07,\n",
       "         8.60648938e-08])"
      ]
     },
     "execution_count": 86,
     "metadata": {},
     "output_type": "execute_result"
    }
   ],
   "source": [
    "pca_scaled = PCA(n_components=n_components, whiten=True).fit(scaler.transform(X_train))\n",
    "pca_scaled.explained_variance_ratio_"
   ]
  },
  {
   "cell_type": "code",
   "execution_count": 87,
   "metadata": {
    "collapsed": false
   },
   "outputs": [
    {
     "name": "stdout",
     "output_type": "stream",
     "text": [
      "RF AU ROC = 0.8342\n",
      "Logit AU ROC = 0.6872\n"
     ]
    }
   ],
   "source": [
    "clf_rob_stdz = RandomForestClassifier(n_estimators=n_estimators).fit(pca_scaled.transform(scaler.transform(X_train)), y_train)\n",
    "print('RF AU ROC = %1.4f' % roc_auc_score(y_test, \n",
    "                                       clf_rob_stdz.predict_proba(\n",
    "                                           pca_scaled.transform(\n",
    "                                               scaler.transform(X_test)))[:, 1]))\n",
    "\n",
    "clf_rob_stdz = LogisticRegression().fit(pca_scaled.transform(scaler.transform(X_train)), y_train)\n",
    "print('Logit AU ROC = %1.4f' % roc_auc_score(y_test, \n",
    "                                       clf_rob_stdz.predict_proba(\n",
    "                                           pca_scaled.transform(\n",
    "                                               scaler.transform(X_test)))[:, 1]))"
   ]
  },
  {
   "cell_type": "code",
   "execution_count": null,
   "metadata": {
    "collapsed": true
   },
   "outputs": [],
   "source": [
    "RF AU ROC = 0.8336\n",
    "Logit AU ROC = 0.6872"
   ]
  },
  {
   "cell_type": "markdown",
   "metadata": {},
   "source": [
    "# PCA With Min-Max Scaling"
   ]
  },
  {
   "cell_type": "code",
   "execution_count": 82,
   "metadata": {
    "collapsed": true
   },
   "outputs": [],
   "source": [
    "min_max_scaler = MinMaxScaler().fit(X_train)"
   ]
  },
  {
   "cell_type": "code",
   "execution_count": 83,
   "metadata": {
    "collapsed": false
   },
   "outputs": [
    {
     "data": {
      "text/plain": [
       "array([  6.46422127e-01,   1.65358158e-01,   8.60246430e-02,\n",
       "         6.33043733e-02,   2.83101376e-02,   4.30603564e-03,\n",
       "         3.41502540e-03,   1.98375497e-03,   6.37256975e-04,\n",
       "         2.38487467e-04])"
      ]
     },
     "execution_count": 83,
     "metadata": {},
     "output_type": "execute_result"
    }
   ],
   "source": [
    "pca_scaled = PCA(n_components=n_components)\n",
    "pca_scaled.fit(min_max_scaler.transform(X_train))\n",
    "pca_scaled.explained_variance_ratio_"
   ]
  },
  {
   "cell_type": "code",
   "execution_count": 84,
   "metadata": {
    "collapsed": false
   },
   "outputs": [
    {
     "name": "stdout",
     "output_type": "stream",
     "text": [
      "RF AU ROC = 0.7958\n",
      "Logit AU ROC = 0.6348\n"
     ]
    }
   ],
   "source": [
    "clf_minmax = RandomForestClassifier(n_estimators=n_estimators).fit(pca_scaled.transform(min_max_scaler.transform(X_train)), \n",
    "                                                          y_train)\n",
    "print('RF AU ROC = %1.4f' % roc_auc_score(y_test, \n",
    "                                       clf_minmax.predict_proba(\n",
    "                                           pca_scaled.transform(\n",
    "                                               min_max_scaler.transform(X_test)))[:, 1]))\n",
    "\n",
    "clf_minmax = LogisticRegression().fit(pca_scaled.transform(min_max_scaler.transform(X_train)), \n",
    "                                                          y_train)\n",
    "print('Logit AU ROC = %1.4f' % roc_auc_score(y_test, \n",
    "                                       clf_minmax.predict_proba(\n",
    "                                           pca_scaled.transform(\n",
    "                                               min_max_scaler.transform(X_test)))[:, 1]))"
   ]
  },
  {
   "cell_type": "markdown",
   "metadata": {},
   "source": [
    "# Main conclusions\n",
    "- PCA with Min-Max scaling is always worst. Do not do this\n",
    "- Robust Scaler is giving better results and Standard Scaler\n",
    "- The nominal test is still very good and the rare increments in the performance probably do not justify the use of the PCA with this dataset."
   ]
  },
  {
   "cell_type": "code",
   "execution_count": null,
   "metadata": {
    "collapsed": true
   },
   "outputs": [],
   "source": []
  }
 ],
 "metadata": {
  "kernelspec": {
   "display_name": "Python 3",
   "language": "python",
   "name": "python3"
  },
  "language_info": {
   "codemirror_mode": {
    "name": "ipython",
    "version": 3
   },
   "file_extension": ".py",
   "mimetype": "text/x-python",
   "name": "python",
   "nbconvert_exporter": "python",
   "pygments_lexer": "ipython3",
   "version": "3.4.3"
  }
 },
 "nbformat": 4,
 "nbformat_minor": 2
}
